{
 "cells": [
  {
   "cell_type": "code",
   "execution_count": 281,
   "metadata": {
    "ExecuteTime": {
     "end_time": "2021-07-27T14:41:03.181568Z",
     "start_time": "2021-07-27T14:41:03.177572Z"
    }
   },
   "outputs": [],
   "source": [
    "import pandas as pd"
   ]
  },
  {
   "cell_type": "code",
   "execution_count": 282,
   "metadata": {
    "ExecuteTime": {
     "end_time": "2021-07-27T14:41:06.494701Z",
     "start_time": "2021-07-27T14:41:03.183572Z"
    }
   },
   "outputs": [],
   "source": [
    "df = pd.read_csv(\"C:\\incident data\\service request.csv\",low_memory=False)"
   ]
  },
  {
   "cell_type": "code",
   "execution_count": 283,
   "metadata": {
    "ExecuteTime": {
     "end_time": "2021-07-27T14:41:06.850555Z",
     "start_time": "2021-07-27T14:41:06.496543Z"
    }
   },
   "outputs": [
    {
     "name": "stdout",
     "output_type": "stream",
     "text": [
      "<class 'pandas.core.frame.DataFrame'>\n",
      "RangeIndex: 1000000 entries, 0 to 999999\n",
      "Data columns (total 13 columns):\n",
      " #   Column                  Non-Null Count    Dtype \n",
      "---  ------                  --------------    ----- \n",
      " 0   create_date_time_gmt    1000000 non-null  object\n",
      " 1   customer_id_2           1000000 non-null  int64 \n",
      " 2   data_source_code        1000000 non-null  object\n",
      " 3   priority_code           1000000 non-null  object\n",
      " 4   priority_desc           979030 non-null   object\n",
      " 5   service_request_desc    1000000 non-null  object\n",
      " 6   service_request_id      1000000 non-null  int64 \n",
      " 7   site_name               999816 non-null   object\n",
      " 8   site_nbr                999461 non-null   object\n",
      " 9   customer_name           1000000 non-null  object\n",
      " 10  dispatch_date_time_gmt  350650 non-null   object\n",
      " 11  offering_desc           985245 non-null   object\n",
      " 12  offering_id             985245 non-null   object\n",
      "dtypes: int64(2), object(11)\n",
      "memory usage: 99.2+ MB\n"
     ]
    }
   ],
   "source": [
    "df.info()"
   ]
  },
  {
   "cell_type": "code",
   "execution_count": 284,
   "metadata": {
    "ExecuteTime": {
     "end_time": "2021-07-27T14:41:07.189506Z",
     "start_time": "2021-07-27T14:41:06.851547Z"
    }
   },
   "outputs": [
    {
     "name": "stdout",
     "output_type": "stream",
     "text": [
      "create_date_time_gmt 0.0\n",
      "customer_id_2 0.0\n",
      "data_source_code 0.0\n",
      "priority_code 0.0\n",
      "priority_desc 2.097\n",
      "service_request_desc 0.0\n",
      "service_request_id 0.0\n",
      "site_name 0.0184\n",
      "site_nbr 0.053899999999999997\n",
      "customer_name 0.0\n",
      "dispatch_date_time_gmt 64.935\n",
      "offering_desc 1.4755\n",
      "offering_id 1.4755\n"
     ]
    }
   ],
   "source": [
    "col = df.columns.to_list()\n",
    "for i in col:\n",
    "    print(i,((df[i].isnull().sum())/df.shape[0])*100)"
   ]
  },
  {
   "cell_type": "code",
   "execution_count": 285,
   "metadata": {
    "ExecuteTime": {
     "end_time": "2021-07-27T14:41:07.285544Z",
     "start_time": "2021-07-27T14:41:07.190547Z"
    }
   },
   "outputs": [],
   "source": [
    "df.drop(['customer_name','site_name','dispatch_date_time_gmt','customer_id_2'], inplace=True, axis=1)"
   ]
  },
  {
   "cell_type": "code",
   "execution_count": 286,
   "metadata": {
    "ExecuteTime": {
     "end_time": "2021-07-27T14:41:07.487559Z",
     "start_time": "2021-07-27T14:41:07.287507Z"
    }
   },
   "outputs": [],
   "source": [
    "df = df[df['site_nbr'].notna()]\n",
    "df = df.reset_index(drop = True)"
   ]
  },
  {
   "cell_type": "code",
   "execution_count": 287,
   "metadata": {
    "ExecuteTime": {
     "end_time": "2021-07-27T14:41:07.492506Z",
     "start_time": "2021-07-27T14:41:07.488506Z"
    }
   },
   "outputs": [],
   "source": [
    "def remove_hash(string):\n",
    "    string = string.replace('#','').replace(' ','')\n",
    "    return string"
   ]
  },
  {
   "cell_type": "code",
   "execution_count": 288,
   "metadata": {
    "ExecuteTime": {
     "end_time": "2021-07-27T14:41:07.801594Z",
     "start_time": "2021-07-27T14:41:07.494508Z"
    }
   },
   "outputs": [],
   "source": [
    "df['site_nbr'] = df['site_nbr'].apply(remove_hash)"
   ]
  },
  {
   "cell_type": "code",
   "execution_count": 289,
   "metadata": {
    "ExecuteTime": {
     "end_time": "2021-07-27T14:41:12.169560Z",
     "start_time": "2021-07-27T14:41:07.802544Z"
    }
   },
   "outputs": [
    {
     "name": "stdout",
     "output_type": "stream",
     "text": [
      "6061/7086(SAVANNAH) 335262\n",
      "6061/7086(SAVANNAH) 335325\n",
      "6061/7086(SAVANNAH) 337926\n",
      "6061/7086(SAVANNAH) 337937\n",
      "6061/7086(SAVANNAH) 337940\n",
      "6061/7086(SAVANNAH) 338043\n",
      "6061/7086(SAVANNAH) 338046\n",
      "NCRNEWWRHS 476635\n",
      "NCRNEWWRHS 476636\n",
      "NCRNEWWRHS 476637\n",
      "NCRNEWWRHS 477466\n",
      "WAL-MART1904-01 576888\n",
      "WAL-MART1904-01 577878\n",
      "NCRNEWWRHS 650837\n",
      "NCRNEWWRHS 650838\n",
      "NCRNEWWRHS 650846\n",
      "6061/7086(SAVANNAH) 875625\n",
      "6061/7086(SAVANNAH) 879752\n",
      "NCRNEWWRHS 961935\n",
      "NCRNEWWRHS 962590\n",
      "NCRNEWWRHS 963802\n",
      "NCRNEWWRHS 963813\n",
      "NCRNEWWRHS 963828\n",
      "NCRNEWWRHS 963832\n",
      "NCRNEWWRHS 963857\n",
      "NCRNEWWRHS 964180\n",
      "NCRNEWWRHS 964445\n"
     ]
    }
   ],
   "source": [
    "for i in range(df['site_nbr'].shape[0]):\n",
    "    if len(df['site_nbr'][i]) > 8:\n",
    "        print(df['site_nbr'][i],i)\n",
    "    "
   ]
  },
  {
   "cell_type": "code",
   "execution_count": 290,
   "metadata": {
    "ExecuteTime": {
     "end_time": "2021-07-27T14:41:12.437512Z",
     "start_time": "2021-07-27T14:41:12.170513Z"
    }
   },
   "outputs": [
    {
     "name": "stdout",
     "output_type": "stream",
     "text": [
      "<class 'pandas.core.frame.DataFrame'>\n",
      "RangeIndex: 999461 entries, 0 to 999460\n",
      "Data columns (total 9 columns):\n",
      " #   Column                Non-Null Count   Dtype \n",
      "---  ------                --------------   ----- \n",
      " 0   create_date_time_gmt  999461 non-null  object\n",
      " 1   data_source_code      999461 non-null  object\n",
      " 2   priority_code         999461 non-null  object\n",
      " 3   priority_desc         978508 non-null  object\n",
      " 4   service_request_desc  999461 non-null  object\n",
      " 5   service_request_id    999461 non-null  int64 \n",
      " 6   site_nbr              999461 non-null  object\n",
      " 7   offering_desc         984706 non-null  object\n",
      " 8   offering_id           984706 non-null  object\n",
      "dtypes: int64(1), object(8)\n",
      "memory usage: 68.6+ MB\n"
     ]
    }
   ],
   "source": [
    "df.info()"
   ]
  },
  {
   "cell_type": "code",
   "execution_count": null,
   "metadata": {
    "ExecuteTime": {
     "end_time": "2021-07-27T14:07:13.926240Z",
     "start_time": "2021-07-27T14:07:13.861242Z"
    }
   },
   "outputs": [],
   "source": []
  },
  {
   "cell_type": "code",
   "execution_count": 291,
   "metadata": {
    "ExecuteTime": {
     "end_time": "2021-07-27T14:41:12.474512Z",
     "start_time": "2021-07-27T14:41:12.439529Z"
    }
   },
   "outputs": [],
   "source": [
    "df['priority_code'] = df['priority_code'].replace('               ','1')"
   ]
  },
  {
   "cell_type": "code",
   "execution_count": 292,
   "metadata": {
    "ExecuteTime": {
     "end_time": "2021-07-27T14:41:12.539512Z",
     "start_time": "2021-07-27T14:41:12.475550Z"
    }
   },
   "outputs": [
    {
     "data": {
      "text/plain": [
       "2    607454\n",
       "3    380498\n",
       "1     11509\n",
       "Name: priority_code, dtype: int64"
      ]
     },
     "execution_count": 292,
     "metadata": {},
     "output_type": "execute_result"
    }
   ],
   "source": [
    "df['priority_code'].value_counts() "
   ]
  },
  {
   "cell_type": "code",
   "execution_count": 293,
   "metadata": {
    "ExecuteTime": {
     "end_time": "2021-07-27T14:41:12.694561Z",
     "start_time": "2021-07-27T14:41:12.542520Z"
    }
   },
   "outputs": [],
   "source": [
    "df = df[df['priority_desc'].notna()]"
   ]
  },
  {
   "cell_type": "code",
   "execution_count": 294,
   "metadata": {
    "ExecuteTime": {
     "end_time": "2021-07-27T14:41:12.824552Z",
     "start_time": "2021-07-27T14:41:12.695550Z"
    }
   },
   "outputs": [],
   "source": [
    "df['priority_desc'] = df['priority_desc'].replace('Urgent/Unit Down','2').replace('Not Urgent','3').replace('Very Urgent/Critical','1').replace(' ','1')"
   ]
  },
  {
   "cell_type": "code",
   "execution_count": 295,
   "metadata": {
    "ExecuteTime": {
     "end_time": "2021-07-27T14:41:12.888555Z",
     "start_time": "2021-07-27T14:41:12.825513Z"
    }
   },
   "outputs": [
    {
     "data": {
      "text/plain": [
       "2    530998\n",
       "3    424413\n",
       "1     23097\n",
       "Name: priority_desc, dtype: int64"
      ]
     },
     "execution_count": 295,
     "metadata": {},
     "output_type": "execute_result"
    }
   ],
   "source": [
    "df['priority_desc'].value_counts()"
   ]
  },
  {
   "cell_type": "code",
   "execution_count": 296,
   "metadata": {
    "ExecuteTime": {
     "end_time": "2021-07-27T14:41:12.955592Z",
     "start_time": "2021-07-27T14:41:12.891516Z"
    }
   },
   "outputs": [],
   "source": [
    "df['data_source_code'] = df['data_source_code'].replace('ES','1').replace('D1','2')"
   ]
  },
  {
   "cell_type": "code",
   "execution_count": 299,
   "metadata": {
    "ExecuteTime": {
     "end_time": "2021-07-27T14:42:00.377932Z",
     "start_time": "2021-07-27T14:42:00.110930Z"
    }
   },
   "outputs": [
    {
     "name": "stdout",
     "output_type": "stream",
     "text": [
      "<class 'pandas.core.frame.DataFrame'>\n",
      "Int64Index: 978508 entries, 0 to 999460\n",
      "Data columns (total 9 columns):\n",
      " #   Column                Non-Null Count   Dtype \n",
      "---  ------                --------------   ----- \n",
      " 0   create_date_time_gmt  978508 non-null  object\n",
      " 1   data_source_code      978508 non-null  object\n",
      " 2   priority_code         978508 non-null  object\n",
      " 3   priority_desc         978508 non-null  object\n",
      " 4   service_request_desc  978508 non-null  object\n",
      " 5   service_request_id    978508 non-null  int64 \n",
      " 6   site_nbr              978508 non-null  object\n",
      " 7   offering_desc         964140 non-null  object\n",
      " 8   offering_id           964140 non-null  object\n",
      "dtypes: int64(1), object(8)\n",
      "memory usage: 106.9+ MB\n"
     ]
    }
   ],
   "source": [
    "df.info()"
   ]
  },
  {
   "cell_type": "code",
   "execution_count": 302,
   "metadata": {
    "ExecuteTime": {
     "end_time": "2021-07-27T14:48:41.507785Z",
     "start_time": "2021-07-27T14:48:41.449788Z"
    }
   },
   "outputs": [],
   "source": [
    "df.drop(['service_request_desc','offering_desc'], inplace=True, axis=1)"
   ]
  },
  {
   "cell_type": "code",
   "execution_count": 307,
   "metadata": {
    "ExecuteTime": {
     "end_time": "2021-07-27T14:50:01.644176Z",
     "start_time": "2021-07-27T14:50:01.638175Z"
    }
   },
   "outputs": [
    {
     "data": {
      "text/plain": [
       "'11/7/2020 17:21'"
      ]
     },
     "execution_count": 307,
     "metadata": {},
     "output_type": "execute_result"
    }
   ],
   "source": [
    "df['create_date_time_gmt'][0]"
   ]
  },
  {
   "cell_type": "code",
   "execution_count": null,
   "metadata": {},
   "outputs": [],
   "source": []
  }
 ],
 "metadata": {
  "kernelspec": {
   "display_name": "Python 3",
   "language": "python",
   "name": "python3"
  },
  "language_info": {
   "codemirror_mode": {
    "name": "ipython",
    "version": 3
   },
   "file_extension": ".py",
   "mimetype": "text/x-python",
   "name": "python",
   "nbconvert_exporter": "python",
   "pygments_lexer": "ipython3",
   "version": "3.7.4"
  },
  "toc": {
   "base_numbering": 1,
   "nav_menu": {},
   "number_sections": true,
   "sideBar": true,
   "skip_h1_title": false,
   "title_cell": "Table of Contents",
   "title_sidebar": "Contents",
   "toc_cell": false,
   "toc_position": {},
   "toc_section_display": true,
   "toc_window_display": false
  }
 },
 "nbformat": 4,
 "nbformat_minor": 4
}
