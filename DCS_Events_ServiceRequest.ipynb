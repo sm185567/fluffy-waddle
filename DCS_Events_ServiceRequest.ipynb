{
 "cells": [
  {
   "cell_type": "code",
   "execution_count": 3,
   "id": "6c571c73",
   "metadata": {},
   "outputs": [],
   "source": [
    "%matplotlib inline\n",
    "\n",
    "import pandas as pd\n",
    "import numpy as np\n",
    "import matplotlib.pylab as plt\n",
    "#importing seaborn for statistical plots\n",
    "import seaborn as sns"
   ]
  },
  {
   "cell_type": "code",
   "execution_count": 4,
   "id": "a6937616",
   "metadata": {},
   "outputs": [],
   "source": [
    "events_feather = pd.read_feather(\"DCS_Events_preprocessed.feather\")"
   ]
  },
  {
   "cell_type": "code",
   "execution_count": 5,
   "id": "b4bab9e0",
   "metadata": {},
   "outputs": [
    {
     "name": "stdout",
     "output_type": "stream",
     "text": [
      "<class 'pandas.core.frame.DataFrame'>\n",
      "RangeIndex: 1000000 entries, 0 to 999999\n",
      "Data columns (total 15 columns):\n",
      " #   Column                             Non-Null Count    Dtype   \n",
      "---  ------                             --------------    -----   \n",
      " 0   dcs_severity                       1000000 non-null  int64   \n",
      " 1   dcs_eventid                        1000000 non-null  category\n",
      " 2   dcs_storeidentifier                1000000 non-null  int64   \n",
      " 3   event_date                         1000000 non-null  object  \n",
      " 4   dcs_category_BNR Empty             1000000 non-null  uint8   \n",
      " 5   dcs_category_BNR Error             1000000 non-null  uint8   \n",
      " 6   dcs_category_BNR Jammed            1000000 non-null  uint8   \n",
      " 7   dcs_category_BNR Open              1000000 non-null  uint8   \n",
      " 8   dcs_category_Event Log             1000000 non-null  uint8   \n",
      " 9   dcs_category_GenSW                 1000000 non-null  uint8   \n",
      " 10  dcs_category_PropertySubscription  1000000 non-null  uint8   \n",
      " 11  dcs_category_SNMP Ping Fail Event  1000000 non-null  uint8   \n",
      " 12  dcs_category_Usage Alarm           1000000 non-null  uint8   \n",
      " 13  dcs_category_undefined             1000000 non-null  uint8   \n",
      " 14  event_health                       1000000 non-null  int64   \n",
      "dtypes: category(1), int64(3), object(1), uint8(10)\n",
      "memory usage: 41.0+ MB\n"
     ]
    }
   ],
   "source": [
    "events_feather.info()"
   ]
  },
  {
   "cell_type": "code",
   "execution_count": 6,
   "id": "4900e09f",
   "metadata": {},
   "outputs": [],
   "source": [
    "service_request_feather = pd.read_feather(\"DCS_ServiceRequest_preprocessed.feather\")"
   ]
  },
  {
   "cell_type": "code",
   "execution_count": 7,
   "id": "4f2b2a71",
   "metadata": {},
   "outputs": [
    {
     "name": "stdout",
     "output_type": "stream",
     "text": [
      "<class 'pandas.core.frame.DataFrame'>\n",
      "RangeIndex: 978508 entries, 0 to 978507\n",
      "Data columns (total 8 columns):\n",
      " #   Column                Non-Null Count   Dtype \n",
      "---  ------                --------------   ----- \n",
      " 0   index                 978508 non-null  int64 \n",
      " 1   create_date_time_gmt  978508 non-null  object\n",
      " 2   data_source_code      978508 non-null  object\n",
      " 3   priority_code         978508 non-null  object\n",
      " 4   priority_desc         978508 non-null  object\n",
      " 5   service_request_id    978508 non-null  int64 \n",
      " 6   site_nbr              978508 non-null  object\n",
      " 7   offering_id           964140 non-null  object\n",
      "dtypes: int64(2), object(6)\n",
      "memory usage: 59.7+ MB\n"
     ]
    }
   ],
   "source": [
    "service_request_feather.info()"
   ]
  },
  {
   "cell_type": "code",
   "execution_count": 11,
   "id": "7a4b1a25",
   "metadata": {},
   "outputs": [
    {
     "data": {
      "text/html": [
       "<div>\n",
       "<style scoped>\n",
       "    .dataframe tbody tr th:only-of-type {\n",
       "        vertical-align: middle;\n",
       "    }\n",
       "\n",
       "    .dataframe tbody tr th {\n",
       "        vertical-align: top;\n",
       "    }\n",
       "\n",
       "    .dataframe thead th {\n",
       "        text-align: right;\n",
       "    }\n",
       "</style>\n",
       "<table border=\"1\" class=\"dataframe\">\n",
       "  <thead>\n",
       "    <tr style=\"text-align: right;\">\n",
       "      <th></th>\n",
       "      <th>dcs_severity</th>\n",
       "      <th>dcs_eventid</th>\n",
       "      <th>dcs_storeidentifier</th>\n",
       "      <th>event_date</th>\n",
       "      <th>dcs_category_BNR Empty</th>\n",
       "      <th>dcs_category_BNR Error</th>\n",
       "      <th>dcs_category_BNR Jammed</th>\n",
       "      <th>dcs_category_BNR Open</th>\n",
       "      <th>dcs_category_Event Log</th>\n",
       "      <th>dcs_category_GenSW</th>\n",
       "      <th>dcs_category_PropertySubscription</th>\n",
       "      <th>dcs_category_SNMP Ping Fail Event</th>\n",
       "      <th>dcs_category_Usage Alarm</th>\n",
       "      <th>dcs_category_undefined</th>\n",
       "      <th>event_health</th>\n",
       "    </tr>\n",
       "  </thead>\n",
       "  <tbody>\n",
       "    <tr>\n",
       "      <th>0</th>\n",
       "      <td>2</td>\n",
       "      <td>002</td>\n",
       "      <td>5546</td>\n",
       "      <td>200714</td>\n",
       "      <td>0</td>\n",
       "      <td>0</td>\n",
       "      <td>0</td>\n",
       "      <td>0</td>\n",
       "      <td>0</td>\n",
       "      <td>0</td>\n",
       "      <td>0</td>\n",
       "      <td>0</td>\n",
       "      <td>0</td>\n",
       "      <td>1</td>\n",
       "      <td>0</td>\n",
       "    </tr>\n",
       "    <tr>\n",
       "      <th>1</th>\n",
       "      <td>2</td>\n",
       "      <td>002</td>\n",
       "      <td>5546</td>\n",
       "      <td>200715</td>\n",
       "      <td>0</td>\n",
       "      <td>0</td>\n",
       "      <td>0</td>\n",
       "      <td>0</td>\n",
       "      <td>0</td>\n",
       "      <td>0</td>\n",
       "      <td>0</td>\n",
       "      <td>0</td>\n",
       "      <td>0</td>\n",
       "      <td>1</td>\n",
       "      <td>0</td>\n",
       "    </tr>\n",
       "  </tbody>\n",
       "</table>\n",
       "</div>"
      ],
      "text/plain": [
       "   dcs_severity dcs_eventid  dcs_storeidentifier event_date  \\\n",
       "0             2         002                 5546     200714   \n",
       "1             2         002                 5546     200715   \n",
       "\n",
       "   dcs_category_BNR Empty  dcs_category_BNR Error  dcs_category_BNR Jammed  \\\n",
       "0                       0                       0                        0   \n",
       "1                       0                       0                        0   \n",
       "\n",
       "   dcs_category_BNR Open  dcs_category_Event Log  dcs_category_GenSW  \\\n",
       "0                      0                       0                   0   \n",
       "1                      0                       0                   0   \n",
       "\n",
       "   dcs_category_PropertySubscription  dcs_category_SNMP Ping Fail Event  \\\n",
       "0                                  0                                  0   \n",
       "1                                  0                                  0   \n",
       "\n",
       "   dcs_category_Usage Alarm  dcs_category_undefined  event_health  \n",
       "0                         0                       1             0  \n",
       "1                         0                       1             0  "
      ]
     },
     "execution_count": 11,
     "metadata": {},
     "output_type": "execute_result"
    }
   ],
   "source": [
    "events_feather.head(2)"
   ]
  },
  {
   "cell_type": "code",
   "execution_count": 12,
   "id": "3584b330",
   "metadata": {},
   "outputs": [
    {
     "data": {
      "text/html": [
       "<div>\n",
       "<style scoped>\n",
       "    .dataframe tbody tr th:only-of-type {\n",
       "        vertical-align: middle;\n",
       "    }\n",
       "\n",
       "    .dataframe tbody tr th {\n",
       "        vertical-align: top;\n",
       "    }\n",
       "\n",
       "    .dataframe thead th {\n",
       "        text-align: right;\n",
       "    }\n",
       "</style>\n",
       "<table border=\"1\" class=\"dataframe\">\n",
       "  <thead>\n",
       "    <tr style=\"text-align: right;\">\n",
       "      <th></th>\n",
       "      <th>index</th>\n",
       "      <th>create_date_time_gmt</th>\n",
       "      <th>data_source_code</th>\n",
       "      <th>priority_code</th>\n",
       "      <th>priority_desc</th>\n",
       "      <th>service_request_id</th>\n",
       "      <th>site_nbr</th>\n",
       "      <th>offering_id</th>\n",
       "    </tr>\n",
       "  </thead>\n",
       "  <tbody>\n",
       "    <tr>\n",
       "      <th>0</th>\n",
       "      <td>0</td>\n",
       "      <td>11/7/20</td>\n",
       "      <td>1</td>\n",
       "      <td>3</td>\n",
       "      <td>3</td>\n",
       "      <td>18355021307</td>\n",
       "      <td>3825-01</td>\n",
       "      <td>5900-1039-9802</td>\n",
       "    </tr>\n",
       "    <tr>\n",
       "      <th>1</th>\n",
       "      <td>1</td>\n",
       "      <td>11/7/20</td>\n",
       "      <td>1</td>\n",
       "      <td>3</td>\n",
       "      <td>3</td>\n",
       "      <td>18941021307</td>\n",
       "      <td>0146-01</td>\n",
       "      <td>7350-7012-9090</td>\n",
       "    </tr>\n",
       "  </tbody>\n",
       "</table>\n",
       "</div>"
      ],
      "text/plain": [
       "   index create_date_time_gmt data_source_code priority_code priority_desc  \\\n",
       "0      0              11/7/20                1             3             3   \n",
       "1      1              11/7/20                1             3             3   \n",
       "\n",
       "   service_request_id site_nbr     offering_id  \n",
       "0         18355021307  3825-01  5900-1039-9802  \n",
       "1         18941021307  0146-01  7350-7012-9090  "
      ]
     },
     "execution_count": 12,
     "metadata": {},
     "output_type": "execute_result"
    }
   ],
   "source": [
    "service_request_feather.head(2)"
   ]
  },
  {
   "cell_type": "code",
   "execution_count": null,
   "id": "eec38444",
   "metadata": {},
   "outputs": [],
   "source": []
  }
 ],
 "metadata": {
  "kernelspec": {
   "display_name": "Python 3",
   "language": "python",
   "name": "python3"
  },
  "language_info": {
   "codemirror_mode": {
    "name": "ipython",
    "version": 3
   },
   "file_extension": ".py",
   "mimetype": "text/x-python",
   "name": "python",
   "nbconvert_exporter": "python",
   "pygments_lexer": "ipython3",
   "version": "3.8.8"
  }
 },
 "nbformat": 4,
 "nbformat_minor": 5
}
