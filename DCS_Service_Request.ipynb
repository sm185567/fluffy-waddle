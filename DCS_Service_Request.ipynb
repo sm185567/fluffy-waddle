{
 "cells": [
  {
   "cell_type": "code",
   "execution_count": 1,
   "metadata": {
    "ExecuteTime": {
     "end_time": "2021-07-27T14:41:03.181568Z",
     "start_time": "2021-07-27T14:41:03.177572Z"
    }
   },
   "outputs": [],
   "source": [
    "import pandas as pd"
   ]
  },
  {
   "cell_type": "code",
   "execution_count": 3,
   "metadata": {
    "ExecuteTime": {
     "end_time": "2021-07-27T14:41:06.494701Z",
     "start_time": "2021-07-27T14:41:03.183572Z"
    }
   },
   "outputs": [],
   "source": [
    "df = pd.read_csv(\"Service_requests.csv\",low_memory=False)"
   ]
  },
  {
   "cell_type": "code",
   "execution_count": 4,
   "metadata": {
    "ExecuteTime": {
     "end_time": "2021-07-27T14:41:06.850555Z",
     "start_time": "2021-07-27T14:41:06.496543Z"
    }
   },
   "outputs": [
    {
     "name": "stdout",
     "output_type": "stream",
     "text": [
      "<class 'pandas.core.frame.DataFrame'>\n",
      "RangeIndex: 1000000 entries, 0 to 999999\n",
      "Data columns (total 13 columns):\n",
      " #   Column                  Non-Null Count    Dtype \n",
      "---  ------                  --------------    ----- \n",
      " 0   create_date_time_gmt    1000000 non-null  object\n",
      " 1   customer_id_2           1000000 non-null  int64 \n",
      " 2   data_source_code        1000000 non-null  object\n",
      " 3   priority_code           1000000 non-null  object\n",
      " 4   priority_desc           979030 non-null   object\n",
      " 5   service_request_desc    1000000 non-null  object\n",
      " 6   service_request_id      1000000 non-null  int64 \n",
      " 7   site_name               999816 non-null   object\n",
      " 8   site_nbr                999461 non-null   object\n",
      " 9   customer_name           1000000 non-null  object\n",
      " 10  dispatch_date_time_gmt  350650 non-null   object\n",
      " 11  offering_desc           985245 non-null   object\n",
      " 12  offering_id             985245 non-null   object\n",
      "dtypes: int64(2), object(11)\n",
      "memory usage: 99.2+ MB\n"
     ]
    }
   ],
   "source": [
    "df.info()"
   ]
  },
  {
   "cell_type": "code",
   "execution_count": 5,
   "metadata": {
    "ExecuteTime": {
     "end_time": "2021-07-27T14:41:07.189506Z",
     "start_time": "2021-07-27T14:41:06.851547Z"
    }
   },
   "outputs": [
    {
     "name": "stdout",
     "output_type": "stream",
     "text": [
      "create_date_time_gmt 0.0\n",
      "customer_id_2 0.0\n",
      "data_source_code 0.0\n",
      "priority_code 0.0\n",
      "priority_desc 2.097\n",
      "service_request_desc 0.0\n",
      "service_request_id 0.0\n",
      "site_name 0.0184\n",
      "site_nbr 0.053899999999999997\n",
      "customer_name 0.0\n",
      "dispatch_date_time_gmt 64.935\n",
      "offering_desc 1.4755\n",
      "offering_id 1.4755\n"
     ]
    }
   ],
   "source": [
    "col = df.columns.to_list()\n",
    "for i in col:\n",
    "    print(i,((df[i].isnull().sum())/df.shape[0])*100)"
   ]
  },
  {
   "cell_type": "code",
   "execution_count": 6,
   "metadata": {
    "ExecuteTime": {
     "end_time": "2021-07-27T14:41:07.285544Z",
     "start_time": "2021-07-27T14:41:07.190547Z"
    }
   },
   "outputs": [],
   "source": [
    "df.drop(['customer_name','site_name','dispatch_date_time_gmt','customer_id_2'], inplace=True, axis=1)"
   ]
  },
  {
   "cell_type": "code",
   "execution_count": 7,
   "metadata": {
    "ExecuteTime": {
     "end_time": "2021-07-27T14:41:07.487559Z",
     "start_time": "2021-07-27T14:41:07.287507Z"
    }
   },
   "outputs": [],
   "source": [
    "df = df[df['site_nbr'].notna()]\n",
    "df = df.reset_index(drop = True)"
   ]
  },
  {
   "cell_type": "code",
   "execution_count": 8,
   "metadata": {
    "ExecuteTime": {
     "end_time": "2021-07-27T14:41:07.492506Z",
     "start_time": "2021-07-27T14:41:07.488506Z"
    }
   },
   "outputs": [],
   "source": [
    "def remove_hash(string):\n",
    "    string = string.replace('#','').replace(' ','')\n",
    "    return string"
   ]
  },
  {
   "cell_type": "code",
   "execution_count": 9,
   "metadata": {
    "ExecuteTime": {
     "end_time": "2021-07-27T14:41:07.801594Z",
     "start_time": "2021-07-27T14:41:07.494508Z"
    }
   },
   "outputs": [],
   "source": [
    "df['site_nbr'] = df['site_nbr'].apply(remove_hash)"
   ]
  },
  {
   "cell_type": "code",
   "execution_count": 10,
   "metadata": {
    "ExecuteTime": {
     "end_time": "2021-07-27T14:41:12.169560Z",
     "start_time": "2021-07-27T14:41:07.802544Z"
    }
   },
   "outputs": [
    {
     "name": "stdout",
     "output_type": "stream",
     "text": [
      "6061/7086(SAVANNAH) 335262\n",
      "6061/7086(SAVANNAH) 335325\n",
      "6061/7086(SAVANNAH) 337926\n",
      "6061/7086(SAVANNAH) 337937\n",
      "6061/7086(SAVANNAH) 337940\n",
      "6061/7086(SAVANNAH) 338043\n",
      "6061/7086(SAVANNAH) 338046\n",
      "NCRNEWWRHS 476635\n",
      "NCRNEWWRHS 476636\n",
      "NCRNEWWRHS 476637\n",
      "NCRNEWWRHS 477466\n",
      "WAL-MART1904-01 576888\n",
      "WAL-MART1904-01 577878\n",
      "NCRNEWWRHS 650837\n",
      "NCRNEWWRHS 650838\n",
      "NCRNEWWRHS 650846\n",
      "6061/7086(SAVANNAH) 875625\n",
      "6061/7086(SAVANNAH) 879752\n",
      "NCRNEWWRHS 961935\n",
      "NCRNEWWRHS 962590\n",
      "NCRNEWWRHS 963802\n",
      "NCRNEWWRHS 963813\n",
      "NCRNEWWRHS 963828\n",
      "NCRNEWWRHS 963832\n",
      "NCRNEWWRHS 963857\n",
      "NCRNEWWRHS 964180\n",
      "NCRNEWWRHS 964445\n"
     ]
    }
   ],
   "source": [
    "for i in range(df['site_nbr'].shape[0]):\n",
    "    if len(df['site_nbr'][i]) > 8:\n",
    "        print(df['site_nbr'][i],i)\n",
    "    "
   ]
  },
  {
   "cell_type": "code",
   "execution_count": 11,
   "metadata": {
    "ExecuteTime": {
     "end_time": "2021-07-27T14:41:12.437512Z",
     "start_time": "2021-07-27T14:41:12.170513Z"
    }
   },
   "outputs": [
    {
     "name": "stdout",
     "output_type": "stream",
     "text": [
      "<class 'pandas.core.frame.DataFrame'>\n",
      "RangeIndex: 999461 entries, 0 to 999460\n",
      "Data columns (total 9 columns):\n",
      " #   Column                Non-Null Count   Dtype \n",
      "---  ------                --------------   ----- \n",
      " 0   create_date_time_gmt  999461 non-null  object\n",
      " 1   data_source_code      999461 non-null  object\n",
      " 2   priority_code         999461 non-null  object\n",
      " 3   priority_desc         978508 non-null  object\n",
      " 4   service_request_desc  999461 non-null  object\n",
      " 5   service_request_id    999461 non-null  int64 \n",
      " 6   site_nbr              999461 non-null  object\n",
      " 7   offering_desc         984706 non-null  object\n",
      " 8   offering_id           984706 non-null  object\n",
      "dtypes: int64(1), object(8)\n",
      "memory usage: 68.6+ MB\n"
     ]
    }
   ],
   "source": [
    "df.info()"
   ]
  },
  {
   "cell_type": "code",
   "execution_count": 12,
   "metadata": {
    "ExecuteTime": {
     "end_time": "2021-07-27T14:41:12.474512Z",
     "start_time": "2021-07-27T14:41:12.439529Z"
    }
   },
   "outputs": [],
   "source": [
    "df['priority_code'] = df['priority_code'].replace('               ','1')"
   ]
  },
  {
   "cell_type": "code",
   "execution_count": 13,
   "metadata": {
    "ExecuteTime": {
     "end_time": "2021-07-27T14:41:12.539512Z",
     "start_time": "2021-07-27T14:41:12.475550Z"
    }
   },
   "outputs": [
    {
     "data": {
      "text/plain": [
       "2    607454\n",
       "3    380498\n",
       "1     11509\n",
       "Name: priority_code, dtype: int64"
      ]
     },
     "execution_count": 13,
     "metadata": {},
     "output_type": "execute_result"
    }
   ],
   "source": [
    "df['priority_code'].value_counts() "
   ]
  },
  {
   "cell_type": "code",
   "execution_count": 14,
   "metadata": {
    "ExecuteTime": {
     "end_time": "2021-07-27T14:41:12.694561Z",
     "start_time": "2021-07-27T14:41:12.542520Z"
    }
   },
   "outputs": [],
   "source": [
    "df = df[df['priority_desc'].notna()]"
   ]
  },
  {
   "cell_type": "code",
   "execution_count": 15,
   "metadata": {
    "ExecuteTime": {
     "end_time": "2021-07-27T14:41:12.824552Z",
     "start_time": "2021-07-27T14:41:12.695550Z"
    }
   },
   "outputs": [],
   "source": [
    "df['priority_desc'] = df['priority_desc'].replace('Urgent/Unit Down','2').replace('Not Urgent','3').replace('Very Urgent/Critical','1').replace(' ','1')"
   ]
  },
  {
   "cell_type": "code",
   "execution_count": 16,
   "metadata": {
    "ExecuteTime": {
     "end_time": "2021-07-27T14:41:12.888555Z",
     "start_time": "2021-07-27T14:41:12.825513Z"
    }
   },
   "outputs": [
    {
     "data": {
      "text/plain": [
       "2    530998\n",
       "3    424413\n",
       "1     23097\n",
       "Name: priority_desc, dtype: int64"
      ]
     },
     "execution_count": 16,
     "metadata": {},
     "output_type": "execute_result"
    }
   ],
   "source": [
    "df['priority_desc'].value_counts()"
   ]
  },
  {
   "cell_type": "code",
   "execution_count": 17,
   "metadata": {
    "ExecuteTime": {
     "end_time": "2021-07-27T14:41:12.955592Z",
     "start_time": "2021-07-27T14:41:12.891516Z"
    }
   },
   "outputs": [],
   "source": [
    "df['data_source_code'] = df['data_source_code'].replace('ES','1').replace('D1','2')"
   ]
  },
  {
   "cell_type": "code",
   "execution_count": 18,
   "metadata": {
    "ExecuteTime": {
     "end_time": "2021-07-27T14:42:00.377932Z",
     "start_time": "2021-07-27T14:42:00.110930Z"
    }
   },
   "outputs": [
    {
     "name": "stdout",
     "output_type": "stream",
     "text": [
      "<class 'pandas.core.frame.DataFrame'>\n",
      "Int64Index: 978508 entries, 0 to 999460\n",
      "Data columns (total 9 columns):\n",
      " #   Column                Non-Null Count   Dtype \n",
      "---  ------                --------------   ----- \n",
      " 0   create_date_time_gmt  978508 non-null  object\n",
      " 1   data_source_code      978508 non-null  object\n",
      " 2   priority_code         978508 non-null  object\n",
      " 3   priority_desc         978508 non-null  object\n",
      " 4   service_request_desc  978508 non-null  object\n",
      " 5   service_request_id    978508 non-null  int64 \n",
      " 6   site_nbr              978508 non-null  object\n",
      " 7   offering_desc         964140 non-null  object\n",
      " 8   offering_id           964140 non-null  object\n",
      "dtypes: int64(1), object(8)\n",
      "memory usage: 74.7+ MB\n"
     ]
    }
   ],
   "source": [
    "df.info()"
   ]
  },
  {
   "cell_type": "code",
   "execution_count": 19,
   "metadata": {
    "ExecuteTime": {
     "end_time": "2021-07-27T14:48:41.507785Z",
     "start_time": "2021-07-27T14:48:41.449788Z"
    }
   },
   "outputs": [],
   "source": [
    "df.drop(['service_request_desc','offering_desc'], inplace=True, axis=1)"
   ]
  },
  {
   "cell_type": "code",
   "execution_count": 20,
   "metadata": {
    "ExecuteTime": {
     "end_time": "2021-07-27T15:23:19.457697Z",
     "start_time": "2021-07-27T15:23:19.452736Z"
    }
   },
   "outputs": [],
   "source": [
    "hi = list('11/7/2020 17:21')"
   ]
  },
  {
   "cell_type": "code",
   "execution_count": 21,
   "metadata": {
    "ExecuteTime": {
     "end_time": "2021-07-27T15:23:20.125652Z",
     "start_time": "2021-07-27T15:23:20.118655Z"
    }
   },
   "outputs": [
    {
     "data": {
      "text/plain": [
       "['1', '1', '/', '7', '/', '2', '0', '2', '0', ' ', '1', '7', ':', '2', '1']"
      ]
     },
     "execution_count": 21,
     "metadata": {},
     "output_type": "execute_result"
    }
   ],
   "source": [
    "hi"
   ]
  },
  {
   "cell_type": "code",
   "execution_count": 22,
   "metadata": {
    "ExecuteTime": {
     "end_time": "2021-07-27T15:24:40.584746Z",
     "start_time": "2021-07-27T15:24:40.577745Z"
    }
   },
   "outputs": [],
   "source": [
    "def getdate(hi):\n",
    "    hi = list(hi)\n",
    "    for i in range(len(hi)):\n",
    "        if hi[i] == ':':\n",
    "            hi[i-2] = ''\n",
    "            hi[i-1] = ''\n",
    "            hi[i] = ''\n",
    "            hi[i+1] = ''\n",
    "            hi[i+2] = ''\n",
    "    hi = ''.join(hi)\n",
    "    hi = hi.rstrip()\n",
    "    return hi"
   ]
  },
  {
   "cell_type": "code",
   "execution_count": 23,
   "metadata": {
    "ExecuteTime": {
     "end_time": "2021-07-27T15:24:44.234759Z",
     "start_time": "2021-07-27T15:24:41.718749Z"
    }
   },
   "outputs": [],
   "source": [
    "df['create_date_time_gmt'] = df['create_date_time_gmt'].apply(getdate)"
   ]
  },
  {
   "cell_type": "code",
   "execution_count": 24,
   "metadata": {
    "ExecuteTime": {
     "end_time": "2021-07-27T15:25:11.667835Z",
     "start_time": "2021-07-27T15:25:11.658865Z"
    }
   },
   "outputs": [
    {
     "data": {
      "text/plain": [
       "0         11/7/20\n",
       "1         11/7/20\n",
       "2         11/7/20\n",
       "3         11/7/20\n",
       "4         11/6/20\n",
       "           ...   \n",
       "999456    9/22/20\n",
       "999457    9/22/20\n",
       "999458    9/22/20\n",
       "999459    9/22/20\n",
       "999460    9/22/20\n",
       "Name: create_date_time_gmt, Length: 978508, dtype: object"
      ]
     },
     "execution_count": 24,
     "metadata": {},
     "output_type": "execute_result"
    }
   ],
   "source": [
    "df['create_date_time_gmt']"
   ]
  },
  {
   "cell_type": "code",
   "execution_count": 25,
   "metadata": {
    "ExecuteTime": {
     "end_time": "2021-07-27T16:17:05.923210Z",
     "start_time": "2021-07-27T16:17:05.725212Z"
    }
   },
   "outputs": [
    {
     "name": "stdout",
     "output_type": "stream",
     "text": [
      "<class 'pandas.core.frame.DataFrame'>\n",
      "Int64Index: 978508 entries, 0 to 999460\n",
      "Data columns (total 7 columns):\n",
      " #   Column                Non-Null Count   Dtype \n",
      "---  ------                --------------   ----- \n",
      " 0   create_date_time_gmt  978508 non-null  object\n",
      " 1   data_source_code      978508 non-null  object\n",
      " 2   priority_code         978508 non-null  object\n",
      " 3   priority_desc         978508 non-null  object\n",
      " 4   service_request_id    978508 non-null  int64 \n",
      " 5   site_nbr              978508 non-null  object\n",
      " 6   offering_id           964140 non-null  object\n",
      "dtypes: int64(1), object(6)\n",
      "memory usage: 59.7+ MB\n"
     ]
    }
   ],
   "source": [
    "df.info()"
   ]
  },
  {
   "cell_type": "code",
   "execution_count": 33,
   "metadata": {
    "ExecuteTime": {
     "end_time": "2021-07-27T16:37:11.991665Z",
     "start_time": "2021-07-27T16:37:11.949665Z"
    }
   },
   "outputs": [
    {
     "data": {
      "text/html": [
       "<div>\n",
       "<style scoped>\n",
       "    .dataframe tbody tr th:only-of-type {\n",
       "        vertical-align: middle;\n",
       "    }\n",
       "\n",
       "    .dataframe tbody tr th {\n",
       "        vertical-align: top;\n",
       "    }\n",
       "\n",
       "    .dataframe thead th {\n",
       "        text-align: right;\n",
       "    }\n",
       "</style>\n",
       "<table border=\"1\" class=\"dataframe\">\n",
       "  <thead>\n",
       "    <tr style=\"text-align: right;\">\n",
       "      <th></th>\n",
       "      <th>index</th>\n",
       "      <th>create_date_time_gmt</th>\n",
       "      <th>data_source_code</th>\n",
       "      <th>priority_code</th>\n",
       "      <th>priority_desc</th>\n",
       "      <th>service_request_id</th>\n",
       "      <th>site_nbr</th>\n",
       "      <th>offering_id</th>\n",
       "    </tr>\n",
       "  </thead>\n",
       "  <tbody>\n",
       "    <tr>\n",
       "      <th>0</th>\n",
       "      <td>0</td>\n",
       "      <td>11/7/20</td>\n",
       "      <td>1</td>\n",
       "      <td>3</td>\n",
       "      <td>3</td>\n",
       "      <td>18355021307</td>\n",
       "      <td>3825-01</td>\n",
       "      <td>5900-1039-9802</td>\n",
       "    </tr>\n",
       "    <tr>\n",
       "      <th>1</th>\n",
       "      <td>1</td>\n",
       "      <td>11/7/20</td>\n",
       "      <td>1</td>\n",
       "      <td>3</td>\n",
       "      <td>3</td>\n",
       "      <td>18941021307</td>\n",
       "      <td>0146-01</td>\n",
       "      <td>7350-7012-9090</td>\n",
       "    </tr>\n",
       "    <tr>\n",
       "      <th>2</th>\n",
       "      <td>2</td>\n",
       "      <td>11/7/20</td>\n",
       "      <td>1</td>\n",
       "      <td>2</td>\n",
       "      <td>2</td>\n",
       "      <td>12619021307</td>\n",
       "      <td>1076-01</td>\n",
       "      <td>7350-7012-9090</td>\n",
       "    </tr>\n",
       "    <tr>\n",
       "      <th>3</th>\n",
       "      <td>3</td>\n",
       "      <td>11/7/20</td>\n",
       "      <td>1</td>\n",
       "      <td>2</td>\n",
       "      <td>2</td>\n",
       "      <td>17591021307</td>\n",
       "      <td>3805-01</td>\n",
       "      <td>7932-9996-9990</td>\n",
       "    </tr>\n",
       "    <tr>\n",
       "      <th>4</th>\n",
       "      <td>4</td>\n",
       "      <td>11/6/20</td>\n",
       "      <td>1</td>\n",
       "      <td>3</td>\n",
       "      <td>3</td>\n",
       "      <td>11894111307</td>\n",
       "      <td>1451-01</td>\n",
       "      <td>7932-4820-9898</td>\n",
       "    </tr>\n",
       "    <tr>\n",
       "      <th>...</th>\n",
       "      <td>...</td>\n",
       "      <td>...</td>\n",
       "      <td>...</td>\n",
       "      <td>...</td>\n",
       "      <td>...</td>\n",
       "      <td>...</td>\n",
       "      <td>...</td>\n",
       "      <td>...</td>\n",
       "    </tr>\n",
       "    <tr>\n",
       "      <th>978503</th>\n",
       "      <td>999456</td>\n",
       "      <td>9/22/20</td>\n",
       "      <td>1</td>\n",
       "      <td>2</td>\n",
       "      <td>3</td>\n",
       "      <td>12356066207</td>\n",
       "      <td>4797-18</td>\n",
       "      <td>7932-5551-9802</td>\n",
       "    </tr>\n",
       "    <tr>\n",
       "      <th>978504</th>\n",
       "      <td>999457</td>\n",
       "      <td>9/22/20</td>\n",
       "      <td>1</td>\n",
       "      <td>2</td>\n",
       "      <td>2</td>\n",
       "      <td>16086166207</td>\n",
       "      <td>1173-01</td>\n",
       "      <td>7350-7012-9090</td>\n",
       "    </tr>\n",
       "    <tr>\n",
       "      <th>978505</th>\n",
       "      <td>999458</td>\n",
       "      <td>9/22/20</td>\n",
       "      <td>1</td>\n",
       "      <td>2</td>\n",
       "      <td>2</td>\n",
       "      <td>18055066207</td>\n",
       "      <td>0690-01</td>\n",
       "      <td>7932-9996-9990</td>\n",
       "    </tr>\n",
       "    <tr>\n",
       "      <th>978506</th>\n",
       "      <td>999459</td>\n",
       "      <td>9/22/20</td>\n",
       "      <td>1</td>\n",
       "      <td>2</td>\n",
       "      <td>3</td>\n",
       "      <td>12356066207</td>\n",
       "      <td>4797-18</td>\n",
       "      <td>7932-5551-9802</td>\n",
       "    </tr>\n",
       "    <tr>\n",
       "      <th>978507</th>\n",
       "      <td>999460</td>\n",
       "      <td>9/22/20</td>\n",
       "      <td>1</td>\n",
       "      <td>3</td>\n",
       "      <td>3</td>\n",
       "      <td>19156066207</td>\n",
       "      <td>3339-01</td>\n",
       "      <td>7687-0013-0000</td>\n",
       "    </tr>\n",
       "  </tbody>\n",
       "</table>\n",
       "<p>978508 rows × 8 columns</p>\n",
       "</div>"
      ],
      "text/plain": [
       "         index create_date_time_gmt data_source_code priority_code  \\\n",
       "0            0              11/7/20                1             3   \n",
       "1            1              11/7/20                1             3   \n",
       "2            2              11/7/20                1             2   \n",
       "3            3              11/7/20                1             2   \n",
       "4            4              11/6/20                1             3   \n",
       "...        ...                  ...              ...           ...   \n",
       "978503  999456              9/22/20                1             2   \n",
       "978504  999457              9/22/20                1             2   \n",
       "978505  999458              9/22/20                1             2   \n",
       "978506  999459              9/22/20                1             2   \n",
       "978507  999460              9/22/20                1             3   \n",
       "\n",
       "       priority_desc  service_request_id site_nbr     offering_id  \n",
       "0                  3         18355021307  3825-01  5900-1039-9802  \n",
       "1                  3         18941021307  0146-01  7350-7012-9090  \n",
       "2                  2         12619021307  1076-01  7350-7012-9090  \n",
       "3                  2         17591021307  3805-01  7932-9996-9990  \n",
       "4                  3         11894111307  1451-01  7932-4820-9898  \n",
       "...              ...                 ...      ...             ...  \n",
       "978503             3         12356066207  4797-18  7932-5551-9802  \n",
       "978504             2         16086166207  1173-01  7350-7012-9090  \n",
       "978505             2         18055066207  0690-01  7932-9996-9990  \n",
       "978506             3         12356066207  4797-18  7932-5551-9802  \n",
       "978507             3         19156066207  3339-01  7687-0013-0000  \n",
       "\n",
       "[978508 rows x 8 columns]"
      ]
     },
     "execution_count": 33,
     "metadata": {},
     "output_type": "execute_result"
    }
   ],
   "source": [
    "df"
   ]
  },
  {
   "cell_type": "code",
   "execution_count": 34,
   "metadata": {
    "ExecuteTime": {
     "end_time": "2021-07-27T16:31:59.878758Z",
     "start_time": "2021-07-27T16:31:59.750745Z"
    }
   },
   "outputs": [
    {
     "data": {
      "text/html": [
       "<div>\n",
       "<style scoped>\n",
       "    .dataframe tbody tr th:only-of-type {\n",
       "        vertical-align: middle;\n",
       "    }\n",
       "\n",
       "    .dataframe tbody tr th {\n",
       "        vertical-align: top;\n",
       "    }\n",
       "\n",
       "    .dataframe thead th {\n",
       "        text-align: right;\n",
       "    }\n",
       "</style>\n",
       "<table border=\"1\" class=\"dataframe\">\n",
       "  <thead>\n",
       "    <tr style=\"text-align: right;\">\n",
       "      <th></th>\n",
       "      <th>create_date_time_gmt</th>\n",
       "      <th>data_source_code</th>\n",
       "      <th>priority_code</th>\n",
       "      <th>priority_desc</th>\n",
       "      <th>service_request_id</th>\n",
       "      <th>site_nbr</th>\n",
       "      <th>offering_id</th>\n",
       "    </tr>\n",
       "  </thead>\n",
       "  <tbody>\n",
       "  </tbody>\n",
       "</table>\n",
       "</div>"
      ],
      "text/plain": [
       "Empty DataFrame\n",
       "Columns: [create_date_time_gmt, data_source_code, priority_code, priority_desc, service_request_id, site_nbr, offering_id]\n",
       "Index: []"
      ]
     },
     "execution_count": 34,
     "metadata": {},
     "output_type": "execute_result"
    }
   ],
   "source": [
    "df[df['site_nbr'] == '3425']"
   ]
  },
  {
   "cell_type": "code",
   "execution_count": 36,
   "metadata": {},
   "outputs": [],
   "source": [
    "df.reset_index().to_feather('DCS_ServiceRequest_preprocessed.feather')"
   ]
  }
 ],
 "metadata": {
  "kernelspec": {
   "display_name": "Python 3",
   "language": "python",
   "name": "python3"
  },
  "language_info": {
   "codemirror_mode": {
    "name": "ipython",
    "version": 3
   },
   "file_extension": ".py",
   "mimetype": "text/x-python",
   "name": "python",
   "nbconvert_exporter": "python",
   "pygments_lexer": "ipython3",
   "version": "3.8.8"
  },
  "toc": {
   "base_numbering": 1,
   "nav_menu": {},
   "number_sections": true,
   "sideBar": true,
   "skip_h1_title": false,
   "title_cell": "Table of Contents",
   "title_sidebar": "Contents",
   "toc_cell": false,
   "toc_position": {},
   "toc_section_display": true,
   "toc_window_display": false
  }
 },
 "nbformat": 4,
 "nbformat_minor": 4
}
